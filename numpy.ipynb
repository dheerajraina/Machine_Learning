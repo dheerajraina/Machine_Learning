{
 "cells": [
  {
   "cell_type": "markdown",
   "metadata": {},
   "source": [
    "Numpy Practice"
   ]
  },
  {
   "cell_type": "code",
   "execution_count": 3,
   "metadata": {},
   "outputs": [],
   "source": [
    "import numpy as np"
   ]
  },
  {
   "cell_type": "code",
   "execution_count": 4,
   "metadata": {},
   "outputs": [
    {
     "name": "stdout",
     "output_type": "stream",
     "text": [
      "[1.2 2.4 3.5 4.7 6.1 7.2 8.3 9.5]\n"
     ]
    }
   ],
   "source": [
    "one_dimensional_array=np.array([1.2, 2.4, 3.5, 4.7, 6.1, 7.2, 8.3, 9.5])\n",
    "print(one_dimensional_array)"
   ]
  },
  {
   "cell_type": "code",
   "execution_count": 5,
   "metadata": {},
   "outputs": [
    {
     "name": "stdout",
     "output_type": "stream",
     "text": [
      "[[1 2]\n",
      " [3 4]\n",
      " [5 6]\n",
      " [7 8]]\n"
     ]
    }
   ],
   "source": [
    "two_dimensional_array=np.array([[1,2],[3,4],[5,6],[7,8]])\n",
    "print(two_dimensional_array)"
   ]
  },
  {
   "cell_type": "code",
   "execution_count": 7,
   "metadata": {},
   "outputs": [
    {
     "name": "stdout",
     "output_type": "stream",
     "text": [
      "[[0. 0. 0.]\n",
      " [0. 0. 0.]]\n"
     ]
    }
   ],
   "source": [
    "array_populated_with_zeros=np.zeros((2,3))\n",
    "print(array_populated_with_zeros)"
   ]
  },
  {
   "cell_type": "code",
   "execution_count": 8,
   "metadata": {},
   "outputs": [
    {
     "name": "stdout",
     "output_type": "stream",
     "text": [
      "[[1. 1. 1.]\n",
      " [1. 1. 1.]]\n"
     ]
    }
   ],
   "source": [
    "array_populated_with_ones=np.ones((2,3))\n",
    "print(array_populated_with_ones)"
   ]
  },
  {
   "cell_type": "code",
   "execution_count": 10,
   "metadata": {},
   "outputs": [
    {
     "name": "stdout",
     "output_type": "stream",
     "text": [
      "[ 5  6  7  8  9 10 11]\n"
     ]
    }
   ],
   "source": [
    "sequence_of_numbers=np.arange(5,12)\n",
    "print(sequence_of_numbers)"
   ]
  },
  {
   "cell_type": "code",
   "execution_count": 15,
   "metadata": {},
   "outputs": [
    {
     "name": "stdout",
     "output_type": "stream",
     "text": [
      "[53 74 54 52 89] \n",
      "\n",
      " [[59 60 56 55 91]\n",
      " [67 98 81 92 51]\n",
      " [82 94 60 64 53]\n",
      " [53 92 83 95 51]\n",
      " [94 88 79 88 94]]\n"
     ]
    }
   ],
   "source": [
    "populate_array_with_random_nums_between_50_and_100_1d=np.random.randint(low=50,high=100,size=(5))\n",
    "populate_array_with_random_nums_between_50_and_100_2d=np.random.randint(low=50,high=100,size=(5,5))\n",
    "print(populate_array_with_random_nums_1d,\"\\n\\n\",populate_array_with_random_nums_2d)"
   ]
  },
  {
   "cell_type": "code",
   "execution_count": 13,
   "metadata": {},
   "outputs": [
    {
     "name": "stdout",
     "output_type": "stream",
     "text": [
      "[0.65020743 0.86144392 0.05306121 0.18556286 0.80480439 0.87004519\n",
      " 0.04922465 0.2866943  0.15732893 0.7676009 ]\n"
     ]
    }
   ],
   "source": [
    "random_floats_between_0_and_1=np.random.random([10])\n",
    "print(random_floats_between_0_and_1) "
   ]
  },
  {
   "cell_type": "markdown",
   "metadata": {},
   "source": [
    "Mathematical Operations on NumPy Operands\n",
    "If you want to add or subtract two arrays, linear algebra requires that the two operands have the same dimensions. Furthermore, if you want to multiply two arrays, linear algebra imposes strict rules on the dimensional compatibility of operands. Fortunately, NumPy uses a trick called broadcasting to virtually expand the smaller operand to dimensions compatible for linear algebra. For example, the following operation uses broadcasting to add 2.0 to the value of every item in the array created in the previous code cell:"
   ]
  },
  {
   "cell_type": "code",
   "execution_count": 14,
   "metadata": {},
   "outputs": [
    {
     "name": "stdout",
     "output_type": "stream",
     "text": [
      "[2.65020743 2.86144392 2.05306121 2.18556286 2.80480439 2.87004519\n",
      " 2.04922465 2.2866943  2.15732893 2.7676009 ]\n"
     ]
    }
   ],
   "source": [
    "random_floats_between_2_and_3=random_floats_between_0_and_1+2.0\n",
    "print(random_floats_between_2_and_3)"
   ]
  },
  {
   "cell_type": "code",
   "execution_count": 17,
   "metadata": {},
   "outputs": [
    {
     "name": "stdout",
     "output_type": "stream",
     "text": [
      "[264 177 270 201 153]\n"
     ]
    }
   ],
   "source": [
    "populate_array_with_random_nums_between_150_and_300_1d=populate_array_with_random_nums_between_50_and_100_1d*3\n",
    "print(populate_array_with_random_nums_between_150_and_300_1d)"
   ]
  },
  {
   "cell_type": "markdown",
   "metadata": {},
   "source": [
    "create a simple dataset consisting of a single feature and a label as follows:\n",
    "\n",
    "Assign a sequence of integers from 6 to 20 (inclusive) to a NumPy array named feature.\n",
    "\n",
    "Assign 15 values to a NumPy array named label such that:1"
   ]
  },
  {
   "cell_type": "code",
   "execution_count": 21,
   "metadata": {},
   "outputs": [
    {
     "name": "stdout",
     "output_type": "stream",
     "text": [
      "[ 6  7  8  9 10 11 12 13 14 15 16 17 18 19 20]\n",
      "[22 25 28 31 34 37 40 43 46 49 52 55 58 61 64]\n"
     ]
    }
   ],
   "source": [
    "feature=np.arange(6,21)\n",
    "print(feature)\n",
    "label=(feature*3)+4\n",
    "print(label)"
   ]
  },
  {
   "cell_type": "markdown",
   "metadata": {},
   "source": [
    "To make your dataset a little more realistic, insert a little random noise into each element of the label array you already created. To be more precise, modify each value assigned to label by adding a different random floating-point value between -2 and +2.\n",
    "\n",
    "Don't rely on broadcasting. Instead, create a noise array having the same dimension as label."
   ]
  },
  {
   "cell_type": "code",
   "execution_count": 23,
   "metadata": {},
   "outputs": [
    {
     "name": "stdout",
     "output_type": "stream",
     "text": [
      "[ 1  0  0 -2 -2  1  1 -2 -1  0  0 -1 -1 -2  1]\n",
      "[23 25 28 29 32 38 41 41 45 49 52 54 57 59 65]\n"
     ]
    }
   ],
   "source": [
    "noise =np.random.randint(low=-2,high=2,size=len(label))\n",
    "print(noise)\n",
    "label+=noise\n",
    "print(label)"
   ]
  }
 ],
 "metadata": {
  "kernelspec": {
   "display_name": "Python 3",
   "language": "python",
   "name": "python3"
  },
  "language_info": {
   "codemirror_mode": {
    "name": "ipython",
    "version": 3
   },
   "file_extension": ".py",
   "mimetype": "text/x-python",
   "name": "python",
   "nbconvert_exporter": "python",
   "pygments_lexer": "ipython3",
   "version": "3.10.12"
  },
  "orig_nbformat": 4
 },
 "nbformat": 4,
 "nbformat_minor": 2
}
