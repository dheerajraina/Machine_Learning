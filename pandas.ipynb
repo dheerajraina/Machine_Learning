{
 "cells": [
  {
   "cell_type": "code",
   "execution_count": 2,
   "metadata": {},
   "outputs": [],
   "source": [
    "import numpy as np\n",
    "import pandas as pd"
   ]
  },
  {
   "cell_type": "markdown",
   "metadata": {},
   "source": [
    "Creating Dataframe"
   ]
  },
  {
   "cell_type": "code",
   "execution_count": 3,
   "metadata": {},
   "outputs": [
    {
     "name": "stdout",
     "output_type": "stream",
     "text": [
      "   temperature  activity\n",
      "0            0         3\n",
      "1           10         7\n",
      "2           20         9\n",
      "3           30        14\n",
      "4           40        15\n"
     ]
    }
   ],
   "source": [
    "my_data=np.array([[0,3],[10,7],[20,9],[30,14],[40,15]])\n",
    "\n",
    "# python list to hold column names\n",
    "my_columns=['temperature','activity']\n",
    "\n",
    "# Dataframe\n",
    "my_dataframe=pd.DataFrame(data=my_data,columns=my_columns)\n",
    "\n",
    "print(my_dataframe)"
   ]
  },
  {
   "cell_type": "markdown",
   "metadata": {},
   "source": [
    "Adding new column"
   ]
  },
  {
   "cell_type": "code",
   "execution_count": 4,
   "metadata": {},
   "outputs": [
    {
     "name": "stdout",
     "output_type": "stream",
     "text": [
      "   temperature  activity  adjusted\n",
      "0            0         3         5\n",
      "1           10         7         9\n",
      "2           20         9        11\n",
      "3           30        14        16\n",
      "4           40        15        17\n"
     ]
    }
   ],
   "source": [
    "my_dataframe[\"adjusted\"]=my_dataframe[\"activity\"]+2\n",
    "\n",
    "print(my_dataframe)"
   ]
  },
  {
   "cell_type": "code",
   "execution_count": null,
   "metadata": {},
   "outputs": [],
   "source": []
  },
  {
   "cell_type": "markdown",
   "metadata": {},
   "source": [
    "Subset of a dataframe\n"
   ]
  },
  {
   "cell_type": "code",
   "execution_count": 11,
   "metadata": {},
   "outputs": [
    {
     "name": "stdout",
     "output_type": "stream",
     "text": [
      "   temperature  activity  adjusted\n",
      "0            0         3         5\n",
      "1           10         7         9\n",
      "2           20         9        11\n",
      "\n",
      "\n",
      "\n",
      "   temperature  activity  adjusted\n",
      "2           20         9        11\n",
      "\n",
      "\n",
      "\n",
      "   temperature  activity  adjusted\n",
      "1           10         7         9\n",
      "2           20         9        11\n",
      "3           30        14        16\n",
      "\n",
      "\n",
      "\n",
      "0     0\n",
      "1    10\n",
      "2    20\n",
      "3    30\n",
      "4    40\n",
      "Name: temperature, dtype: int64\n"
     ]
    }
   ],
   "source": [
    "#Rows 0  1  2\n",
    "print(my_dataframe.head(3)) \n",
    "\n",
    "print(\"\\n\\n\")\n",
    "\n",
    "#Row 2\n",
    "print(my_dataframe.iloc[[2]])\n",
    "\n",
    "print(\"\\n\\n\")\n",
    "\n",
    "\n",
    "#Rows 0  1  2\n",
    "print(my_dataframe[1:4])\n",
    "\n",
    "print(\"\\n\\n\")\n",
    "\n",
    "#Specific Column\n",
    "print(my_dataframe['temperature'])\n",
    "\n",
    "\n"
   ]
  },
  {
   "cell_type": "markdown",
   "metadata": {},
   "source": [
    "Do the following:\n",
    "\n",
    "Create an 3x4 (3 rows x 4 columns) pandas DataFrame in which the columns are named Eleanor, Chidi, Tahani, and Jason. Populate each of the 12 cells in the DataFrame with a random integer between 0 and 100, inclusive.\n",
    "\n",
    "Output the following:\n",
    "\n",
    "the entire DataFrame\n",
    "\n",
    "the value in the cell of row #1 of the Eleanor column\n",
    "\n",
    "Create a fifth column named Janet, which is populated with the row-by-row sums of Tahani and Jason.\n",
    "\n",
    "To complete this task, it helps to know the NumPy basics covered in the NumPy UltraQuick Tutorial."
   ]
  },
  {
   "cell_type": "code",
   "execution_count": 19,
   "metadata": {},
   "outputs": [
    {
     "name": "stdout",
     "output_type": "stream",
     "text": [
      "   Eleanor  Chidi  Tahini  Jason  Janet\n",
      "0       85     98      66     33     99\n",
      "1       10     31       8     33     41\n",
      "2       49     83      16     79     95 \n",
      "\n",
      "\n",
      "1    10\n",
      "Name: Eleanor, dtype: int64\n"
     ]
    }
   ],
   "source": [
    "def create_dataframe(rows,columns):\n",
    "        data_set=np.random.randint(low=0,high=101,size=(rows,columns))\n",
    "        column_names=[\"Eleanor\",\"Chidi\",\"Tahini\",\"Jason\"]\n",
    "        data_frame=pd.DataFrame(columns=column_names,data=data_set)\n",
    "        return data_frame\n",
    "\n",
    "data_frame=create_dataframe(3,4)\n",
    "print(data_frame,\"\\n\\n\")\n",
    "data_frame['Janet']=data_frame['Tahini']+data_frame['Jason']\n",
    "print(data_frame['Eleanor'][[1]])\n"
   ]
  },
  {
   "cell_type": "markdown",
   "metadata": {},
   "source": [
    "Copying a DataFrame (optional)\n",
    "Pandas provides two different ways to duplicate a DataFrame:\n",
    "\n",
    "Referencing. If you assign a DataFrame to a new variable, any change to the DataFrame or to the new variable will be reflected in the other.\n",
    "\n",
    "Copying. If you call the pd.DataFrame.copy method, you create a true independent copy. Changes to the original DataFrame or to the copy will not be reflected in the other.\n",
    "\n",
    "The difference is subtle, but important."
   ]
  }
 ],
 "metadata": {
  "kernelspec": {
   "display_name": "Python 3",
   "language": "python",
   "name": "python3"
  },
  "language_info": {
   "codemirror_mode": {
    "name": "ipython",
    "version": 3
   },
   "file_extension": ".py",
   "mimetype": "text/x-python",
   "name": "python",
   "nbconvert_exporter": "python",
   "pygments_lexer": "ipython3",
   "version": "3.10.12"
  },
  "orig_nbformat": 4
 },
 "nbformat": 4,
 "nbformat_minor": 2
}
